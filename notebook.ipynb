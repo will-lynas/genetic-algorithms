{
 "cells": [
  {
   "cell_type": "code",
   "execution_count": 196,
   "metadata": {},
   "outputs": [],
   "source": [
    "import numpy as np\n",
    "import matplotlib.pyplot as plt\n",
    "import random"
   ]
  },
  {
   "cell_type": "code",
   "execution_count": 197,
   "metadata": {},
   "outputs": [],
   "source": [
    "# Upper case letters and a space\n",
    "alphabet = \"ABCDEFGHIJKLMNOPQRSTUVWXYZ \"\n",
    "\n",
    "target = \"METHINKS IT IS LIKE A WEASEL\""
   ]
  },
  {
   "cell_type": "code",
   "execution_count": 198,
   "metadata": {},
   "outputs": [
    {
     "name": "stdout",
     "output_type": "stream",
     "text": [
      "WAFKPHKEAMGCWOMUEKVOHTLLKTYL\n",
      "EHTQ EXAXGILPCSJOVERKKZGENGP\n",
      "UOYERGPFTXNGTULMLWTGVUPYOQEB\n",
      "FZW BZGNLAYQXDISDAPLGQLDXEB \n",
      "AGXWUEWMRDKXHCPOHFNPFV QYSBH\n"
     ]
    }
   ],
   "source": [
    "\n",
    "def generate_random_string(length):\n",
    "    return \"\".join(random.choice(alphabet) for _ in range(length))\n",
    "\n",
    "def generate_population(population_size, string_length):\n",
    "    return [generate_random_string(string_length) for _ in range(population_size)]\n",
    "\n",
    "population_size = 100\n",
    "string_length = len(target)\n",
    "initial_population = generate_population(population_size, string_length)\n",
    "\n",
    "print(\"\\n\".join(initial_population[0:5]))"
   ]
  },
  {
   "cell_type": "code",
   "execution_count": 199,
   "metadata": {},
   "outputs": [
    {
     "name": "stdout",
     "output_type": "stream",
     "text": [
      "Average fitness: 1.09\n",
      "\n",
      "G SPJJFQ RDEUXTD UEOKEWELPYX (fitness: 4)\n",
      "EGTOROTSPNIWNFFIBIYMAEUFCSJR (fitness: 4)\n",
      "WAFKPHKEAMGCWOMUEKVOHTLLKTYL (fitness: 3)\n",
      "CQTNTNCUVTVKATWAHWDCDPWD DNE (fitness: 3)\n",
      "EZPYMKRYLITYAQ EUGLZCSHXLQPB (fitness: 3)\n"
     ]
    }
   ],
   "source": [
    "def fitness(string):\n",
    "    # Compare each character in the string to the target and count the number of characters that match\n",
    "    return sum(1 for i, j in zip(string, target) if i == j)\n",
    "\n",
    "def average_fitness(population):\n",
    "    return sum(fitness(string) for string in population) / len(population)\n",
    "\n",
    "def show_top(population, n=5):\n",
    "    fitness_scores = {string: fitness(string) for string in population}\n",
    "    top_n = sorted(fitness_scores, key=lambda x: fitness_scores[x], reverse=True)[0:n]\n",
    "    print(\"\\n\".join(f\"{s} (fitness: {fitness_scores[s]})\" for s in top_n))\n",
    "    \n",
    "print(f\"Average fitness: {average_fitness(initial_population)}\\n\")\n",
    "show_top(initial_population)"
   ]
  },
  {
   "cell_type": "code",
   "execution_count": 200,
   "metadata": {},
   "outputs": [
    {
     "name": "stdout",
     "output_type": "stream",
     "text": [
      "Average fitness: 2.35\n",
      "\n",
      "QBQHPJFQ RBEUXTD UEOKEWELPYX (fitness: 5)\n",
      "NMGKSNFQ RDZUXTD UEOKEWELPYX (fitness: 5)\n",
      "EGTOROTSPRDEUXTD UEOKEWELPYX (fitness: 5)\n",
      "ONTDTMLABGK EETKIRRZCEFBESRB (fitness: 4)\n",
      "EZPYMKRYLITYAFFIBIYMAEUFCSJR (fitness: 4)\n"
     ]
    }
   ],
   "source": [
    "def mutate(string, mutation_rate=0.01):\n",
    "    # Mutate a string by randomly changing its characters\n",
    "    # mutation_rate is the probability of each character being mutated\n",
    "    return \"\".join(random.choice(alphabet) if random.random() < mutation_rate else c for c in string)\n",
    "\n",
    "def crossover(parent1, parent2):\n",
    "    # Choose a random crossover point, and take the first part of parent1 and the second part of parent2\n",
    "    crossover_point = random.randint(0, len(parent1) - 1)\n",
    "    return parent1[:crossover_point] + parent2[crossover_point:]\n",
    "\n",
    "def select_parent(fitness_scores, group_size=5):\n",
    "    # fitness_scores is a dictionary of string: fitness score\n",
    "    # Select a parent by tournament selection\n",
    "    # Choose group_size random parents and select the one with the highest fitness score\n",
    "    group = random.sample(list(fitness_scores.keys()), group_size)\n",
    "    return max(group, key=fitness_scores.get)\n",
    "\n",
    "def make_next_generation(population):\n",
    "    fitness_scores = {string: fitness(string) for string in population}\n",
    "    next_generation = []\n",
    "    for _ in range(population_size):\n",
    "        parent1 = select_parent(fitness_scores)\n",
    "        parent2 = select_parent(fitness_scores)\n",
    "        child = crossover(parent1, parent2)\n",
    "        child = mutate(child)\n",
    "        next_generation.append(child)\n",
    "    return next_generation\n",
    "\n",
    "# Let's make one new generation to demostate that the fitness is improving\n",
    "next_generation = make_next_generation(initial_population)\n",
    "print(f\"Average fitness: {average_fitness(next_generation)}\\n\")\n",
    "show_top(next_generation)"
   ]
  },
  {
   "cell_type": "code",
   "execution_count": 202,
   "metadata": {},
   "outputs": [
    {
     "name": "stdout",
     "output_type": "stream",
     "text": [
      "Iteration 0: Average fitness: 1.09\n",
      "Best: G SPJJFQ RDEUXTD UEOKEWELPYX (fitness: 4)\n",
      "\n",
      "Iteration 10: Average fitness: 10.97\n",
      "Best: MJTNTNRYLIT JL FIUEOKEWEAUEK (fitness: 13)\n",
      "\n",
      "Iteration 20: Average fitness: 18.56\n",
      "Best: METHGNKSIITFAS MIKEOK WEASEK (fitness: 20)\n",
      "\n",
      "Iteration 30: Average fitness: 21.85\n",
      "Best: METHWNKSIIT IS LIKEOA WEASEK (fitness: 24)\n",
      "\n",
      "Iteration 40: Average fitness: 24.75\n",
      "Best: METHVNKS IT IS LIKEOA WEASEK (fitness: 25)\n",
      "\n",
      "Iteration 50: Average fitness: 24.76\n",
      "Best: METHSNKS IT IS LIKEOA WEASER (fitness: 25)\n",
      "\n",
      "Iteration 60: Average fitness: 25.83\n",
      "Best: METHZNKS IT IS LIKE A WEASE  (fitness: 26)\n",
      "\n",
      "Answer found in 68 iterations\n",
      "METHINKS IT IS LIKE A WEASEL\n"
     ]
    }
   ],
   "source": [
    "def answer_found(population):\n",
    "    return any(fitness(string) == len(target) for string in population)\n",
    "\n",
    "# Make a copy of the initial population to not mess anything up\n",
    "population = initial_population.copy()\n",
    "\n",
    "import itertools\n",
    "\n",
    "for i in itertools.count():\n",
    "    if i % 10 == 0:\n",
    "        print(f\"Iteration {i}: Average fitness: {average_fitness(population)}\")\n",
    "        print(f\"Best: \", end=\"\")\n",
    "        show_top(population, n=1)\n",
    "        print()\n",
    "    population = make_next_generation(population)\n",
    "    if answer_found(population):\n",
    "        print(f\"Answer found in {i} iterations\")\n",
    "        print(target)\n",
    "        break\n"
   ]
  }
 ],
 "metadata": {
  "kernelspec": {
   "display_name": ".venv",
   "language": "python",
   "name": "python3"
  },
  "language_info": {
   "codemirror_mode": {
    "name": "ipython",
    "version": 3
   },
   "file_extension": ".py",
   "mimetype": "text/x-python",
   "name": "python",
   "nbconvert_exporter": "python",
   "pygments_lexer": "ipython3",
   "version": "3.13.1"
  }
 },
 "nbformat": 4,
 "nbformat_minor": 2
}
